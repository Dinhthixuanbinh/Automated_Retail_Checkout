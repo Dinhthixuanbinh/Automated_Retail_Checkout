{
 "cells": [
  {
   "cell_type": "code",
   "execution_count": 7,
   "metadata": {},
   "outputs": [],
   "source": [
    "from tools import rotate_img"
   ]
  },
  {
   "cell_type": "code",
   "execution_count": 8,
   "metadata": {},
   "outputs": [],
   "source": [
    "import cv2\n",
    "\n",
    "# Assuming bbox is a list containing bounding box coordinates in xyxyn format\n",
    "# bbox = [x_min, y_min, x_max, y_max]\n",
    "\n",
    "# Load the original image\n",
    "image = cv2.imread(r'E:\\Python\\submit\\val_level_img\\easy\\20180824-13-43-21-401.jpg')\n",
    "\n",
    "# Convert normalized coordinates to pixel coordinates\n",
    "height, width = image.shape[:2]\n",
    "x_min, y_min, x_max, y_max = [0.1626, 0.6083, 0.3013, 0.7944]\n",
    "x_min = int(x_min * width)\n",
    "y_min = int(y_min * height)\n",
    "x_max = int(x_max * width)\n",
    "y_max = int(y_max * height)\n",
    "\n",
    "# Crop the region of interest from the original image\n",
    "cropped_image = image[y_min:y_max, x_min:x_max]\n",
    "\n",
    "# Display the cropped image\n",
    "cv2.imshow('Cropped Image', cropped_image)\n",
    "cv2.waitKey(0)\n",
    "cv2.destroyAllWindows()\n"
   ]
  },
  {
   "cell_type": "code",
   "execution_count": 13,
   "metadata": {},
   "outputs": [
    {
     "name": "stdout",
     "output_type": "stream",
     "text": [
      "['45 0.5705951742627345 0.4758552278820375 0.172 0.1817908847184986\\n', '70 0.2318364611260053 0.530739946380697 0.1461286863270777 0.1824879356568364\\n', '70 0.2339329758713136 0.701343163538874 0.1377426273458445 0.1796943699731903\\n', '75 0.3349168900804289 0.6416648793565684 0.1195603217158177 0.3326166219839142\\n', '75 0.4534530831099196 0.5330187667560322 0.1664343163538874 0.318230563002681\\n', '100 0.6831474530831099 0.5351930294906166 0.1104986595174262 0.1184504021447721\\n', '56 0.6624209115281501 0.7117908847184987 0.1487238605898123 0.2305522788203753\\n', '45 0.4787855227882037 0.8639302949061662 0.1644128686327077 0.1420589812332439\\n', '56 0.1292600536193029 0.8167372654155496 0.1076782841823056 0.2582895442359249\\n']\n"
     ]
    }
   ],
   "source": [
    "# Open the file\n",
    "with open(r'E:\\Python\\submit\\labels_val\\20180824-13-43-21-401.txt', 'r') as file:\n",
    "    f = file.readlines()\n",
    "    print(f)\n",
    "    # Read a single line\n",
    "    # for line in file:\n",
    "    #     # Process the line (in this example, just printing it)\n",
    "    #     print(line.strip())  # strip() removes leading/trailing whitespace, including the newline character\n",
    "\n",
    "# File automatically closed after 'with' block\n"
   ]
  },
  {
   "cell_type": "code",
   "execution_count": 17,
   "metadata": {},
   "outputs": [],
   "source": [
    "import pandas as pd\n",
    "\n",
    "# List of class names\n",
    "class_names = ['puffed_food', 'dried_fruit', 'dried_food', 'instant_drink', 'instant_noodles',\n",
    "               'dessert', 'drink', 'alcohol', 'milk', 'canned_food', 'chocolate', 'gum', 'candy',\n",
    "               'seasoner', 'personal_hygiene', 'tissue', 'stationery']\n",
    "\n",
    "# Create a DataFrame\n",
    "df = pd.DataFrame({'class_name': class_names})\n",
    "\n",
    "# Add an index column\n",
    "df['index'] = df.index   # Adding 1 to start the index from 1 instead of 0\n",
    "\n",
    "# Reorder columns\n",
    "df = df[['index', 'class_name']]\n",
    "\n",
    "# Save DataFrame to CSV\n",
    "df.to_csv('class_names_with_index.csv', index=False)\n"
   ]
  },
  {
   "cell_type": "code",
   "execution_count": null,
   "metadata": {},
   "outputs": [],
   "source": []
  }
 ],
 "metadata": {
  "kernelspec": {
   "display_name": "Python 3",
   "language": "python",
   "name": "python3"
  },
  "language_info": {
   "codemirror_mode": {
    "name": "ipython",
    "version": 3
   },
   "file_extension": ".py",
   "mimetype": "text/x-python",
   "name": "python",
   "nbconvert_exporter": "python",
   "pygments_lexer": "ipython3",
   "version": "3.8.18"
  }
 },
 "nbformat": 4,
 "nbformat_minor": 2
}
